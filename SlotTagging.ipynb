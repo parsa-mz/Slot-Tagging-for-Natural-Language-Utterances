{
  "cells": [
    {
      "cell_type": "markdown",
      "id": "VgcJ491asht1",
      "metadata": {
        "id": "VgcJ491asht1"
      },
      "source": [
        "### Assingment 2 - NLP 243 \n",
        "\n",
        "Slot Tagging Utterances \n",
        "\n",
        "*Parsa Mazaheri*"
      ]
    },
    {
      "cell_type": "code",
      "execution_count": 171,
      "id": "tX-fzYinjstK",
      "metadata": {
        "colab": {
          "base_uri": "https://localhost:8080/"
        },
        "id": "tX-fzYinjstK",
        "outputId": "67a889f8-0750-4a11-c5a9-3dd0b99b55e8"
      },
      "outputs": [
        {
          "name": "stdout",
          "output_type": "stream",
          "text": [
            "Looking in indexes: https://pypi.org/simple, https://us-python.pkg.dev/colab-wheels/public/simple/\n",
            "Requirement already satisfied: contractions in /usr/local/lib/python3.8/dist-packages (0.1.73)\n",
            "Requirement already satisfied: seqeval in /usr/local/lib/python3.8/dist-packages (1.2.2)\n",
            "Requirement already satisfied: textsearch>=0.0.21 in /usr/local/lib/python3.8/dist-packages (from contractions) (0.0.24)\n",
            "Requirement already satisfied: anyascii in /usr/local/lib/python3.8/dist-packages (from textsearch>=0.0.21->contractions) (0.3.1)\n",
            "Requirement already satisfied: pyahocorasick in /usr/local/lib/python3.8/dist-packages (from textsearch>=0.0.21->contractions) (1.4.4)\n",
            "Requirement already satisfied: numpy>=1.14.0 in /usr/local/lib/python3.8/dist-packages (from seqeval) (1.21.6)\n",
            "Requirement already satisfied: scikit-learn>=0.21.3 in /usr/local/lib/python3.8/dist-packages (from seqeval) (1.0.2)\n",
            "Requirement already satisfied: scipy>=1.1.0 in /usr/local/lib/python3.8/dist-packages (from scikit-learn>=0.21.3->seqeval) (1.7.3)\n",
            "Requirement already satisfied: joblib>=0.11 in /usr/local/lib/python3.8/dist-packages (from scikit-learn>=0.21.3->seqeval) (1.2.0)\n",
            "Requirement already satisfied: threadpoolctl>=2.0.0 in /usr/local/lib/python3.8/dist-packages (from scikit-learn>=0.21.3->seqeval) (3.1.0)\n",
            "mkdir: cannot create directory ‘/content/data’: File exists\n",
            "mkdir: cannot create directory ‘/content/output’: File exists\n"
          ]
        }
      ],
      "source": [
        "!pip install contractions seqeval\n",
        "!mkdir /content/data\n",
        "!mkdir /content/output"
      ]
    },
    {
      "cell_type": "markdown",
      "id": "6R7xc7PwhcP6",
      "metadata": {
        "id": "6R7xc7PwhcP6"
      },
      "source": [
        "🔴 *Drop `hw2_train.csv` and `hw2_test.csv` from the zip file in the `data` folder that has been creatd just now.*  🔴"
      ]
    },
    {
      "cell_type": "code",
      "execution_count": 2,
      "id": "6c00405d",
      "metadata": {
        "colab": {
          "base_uri": "https://localhost:8080/"
        },
        "id": "6c00405d",
        "outputId": "17e805da-33fb-4f19-ba07-b8b40c479b25"
      },
      "outputs": [
        {
          "name": "stderr",
          "output_type": "stream",
          "text": [
            "/usr/local/lib/python3.8/dist-packages/torch/cuda/__init__.py:497: UserWarning: Can't initialize NVML\n",
            "  warnings.warn(\"Can't initialize NVML\")\n"
          ]
        }
      ],
      "source": [
        "# Imports\n",
        "import os\n",
        "cwd = os.getcwd()\n",
        "\n",
        "import os\n",
        "import re\n",
        "import json\n",
        "\n",
        "import numpy as np\n",
        "import pandas as pd\n",
        "from tqdm import tqdm\n",
        "\n",
        "import torch\n",
        "import torch.nn as nn\n",
        "from torch.nn.utils.rnn import pad_sequence\n",
        "from torch.utils.data import Dataset, DataLoader\n",
        "import matplotlib.pyplot as plt\n",
        "%matplotlib inline\n",
        "\n",
        "from sklearn.model_selection import train_test_split\n",
        "from sklearn.metrics import multilabel_confusion_matrix\n",
        "from sklearn.feature_extraction.text import TfidfVectorizer\n",
        "from sklearn.preprocessing import MultiLabelBinarizer\n",
        "\n",
        "from seqeval.metrics import f1_score\n",
        "from seqeval.scheme import IOB2\n",
        "\n",
        "from spacy.tokenizer import Tokenizer\n",
        "from spacy.lang.en import English\n",
        "import spacy\n",
        "from spacy.tokenizer import Tokenizer\n",
        "import contractions\n",
        "\n",
        "import seaborn as sns\n",
        "import operator\n",
        "from itertools import islice\n",
        "\n",
        "from sklearn.model_selection import train_test_split\n",
        "from tqdm import tqdm\n",
        "\n"
      ]
    },
    {
      "cell_type": "code",
      "execution_count": 3,
      "id": "mzScmJLV1b2Q",
      "metadata": {
        "colab": {
          "base_uri": "https://localhost:8080/"
        },
        "id": "mzScmJLV1b2Q",
        "outputId": "1a956789-e7a1-42af-e19a-c8fce8b5424a"
      },
      "outputs": [
        {
          "name": "stdout",
          "output_type": "stream",
          "text": [
            "Device:  cpu\n"
          ]
        }
      ],
      "source": [
        "# Set device = CUDA if available\n",
        "device = 'cuda' if torch.cuda.is_available() else 'cpu'\n",
        "print('Device: ', device)"
      ]
    },
    {
      "cell_type": "code",
      "execution_count": 5,
      "id": "34b898e3",
      "metadata": {
        "colab": {
          "base_uri": "https://localhost:8080/"
        },
        "id": "34b898e3",
        "outputId": "1deb6cf9-dba7-4f7f-d560-85adb50cfad5"
      },
      "outputs": [
        {
          "name": "stdout",
          "output_type": "stream",
          "text": [
            "Train Set Shape: (2312, 2)\n",
            "Train Set with unequal rows removed Shape:  (2254, 2)\n",
            "Test Set Shape: (981, 1)\n"
          ]
        }
      ],
      "source": [
        "# Reading CSV File into Pandas DataFrame\n",
        "\n",
        "# Reading Train Dataset into DataFrame\n",
        "dataF = pd.read_csv(cwd + '/data/hw2_train.csv', index_col = 0)\n",
        "dataF.columns = ['texts', 'tags']\n",
        "print('Train Set Shape:', dataF.shape)\n",
        "\n",
        "# Removing unequal texts and tags from train dataset\n",
        "list_of_dict = []\n",
        "for idx, row in dataF.iterrows():\n",
        "    temp_dict = {}\n",
        "    len_text = len(row['texts'].split())\n",
        "    len_tag = len(row['tags'].split())\n",
        "    if(len_text == len_tag):\n",
        "        temp_dict['texts'] = row['texts']\n",
        "        temp_dict['tags'] = row['tags']\n",
        "        list_of_dict.append(temp_dict)\n",
        "df = pd.DataFrame.from_dict(list_of_dict)\n",
        "print('Train Set with unequal rows removed Shape: ', df.shape)\n",
        "\n",
        "# Reading Test Dataset into DataFrame\n",
        "test_data = pd.read_csv(cwd + '/data/hw2_test.csv', index_col = 0)\n",
        "test_data.columns = ['texts']\n",
        "print('Test Set Shape:', test_data.shape)\n"
      ]
    },
    {
      "cell_type": "code",
      "execution_count": 24,
      "id": "d233c178",
      "metadata": {
        "colab": {
          "base_uri": "https://localhost:8080/"
        },
        "id": "d233c178",
        "outputId": "ec6a1cc7-2a76-452c-fe9b-1c3625515320"
      },
      "outputs": [
        {
          "name": "stdout",
          "output_type": "stream",
          "text": [
            "Train Data Shape:  (1690, 2)\n",
            "Val Data Shape:  (564, 2)\n"
          ]
        }
      ],
      "source": [
        "# Splitting the Training dataset into the Training set and Validation set\n",
        "train_data, val_data = train_test_split(df,\n",
        "                                        random_state = 32, \n",
        "                                        test_size = 0.25, \n",
        "                                        shuffle = True)\n",
        "print('Train Data Shape: ', train_data.shape)\n",
        "print('Val Data Shape: ', val_data.shape)"
      ]
    },
    {
      "cell_type": "code",
      "execution_count": 7,
      "id": "f8oeVNC8k8E-",
      "metadata": {
        "colab": {
          "base_uri": "https://localhost:8080/"
        },
        "id": "f8oeVNC8k8E-",
        "outputId": "18b5398e-d8ea-4719-a7f9-168af705d343"
      },
      "outputs": [
        {
          "name": "stdout",
          "output_type": "stream",
          "text": [
            "--2022-12-12 17:02:11--  https://nlp.stanford.edu/data/glove.6B.zip\n",
            "Resolving nlp.stanford.edu (nlp.stanford.edu)... 171.64.67.140\n",
            "Connecting to nlp.stanford.edu (nlp.stanford.edu)|171.64.67.140|:443... connected.\n",
            "HTTP request sent, awaiting response... 301 Moved Permanently\n",
            "Location: https://downloads.cs.stanford.edu/nlp/data/glove.6B.zip [following]\n",
            "--2022-12-12 17:02:12--  https://downloads.cs.stanford.edu/nlp/data/glove.6B.zip\n",
            "Resolving downloads.cs.stanford.edu (downloads.cs.stanford.edu)... 171.64.64.22\n",
            "Connecting to downloads.cs.stanford.edu (downloads.cs.stanford.edu)|171.64.64.22|:443... connected.\n",
            "HTTP request sent, awaiting response... 200 OK\n",
            "Length: 862182613 (822M) [application/zip]\n",
            "Saving to: ‘/content/glove.6B.zip’\n",
            "\n",
            "glove.6B.zip        100%[===================>] 822.24M  5.01MB/s    in 2m 39s  \n",
            "\n",
            "2022-12-12 17:04:51 (5.17 MB/s) - ‘/content/glove.6B.zip’ saved [862182613/862182613]\n",
            "\n",
            "Archive:  /content/glove.6B.zip\n",
            "  inflating: /content/data/glove.6B.50d.txt  \n",
            "  inflating: /content/data/glove.6B.100d.txt  \n",
            "  inflating: /content/data/glove.6B.200d.txt  \n",
            "  inflating: /content/data/glove.6B.300d.txt  \n"
          ]
        }
      ],
      "source": [
        "! wget https://nlp.stanford.edu/data/glove.6B.zip -P /content/\n",
        "!unzip /content/glove.6B.zip -d /content/data/"
      ]
    },
    {
      "cell_type": "code",
      "execution_count": 25,
      "id": "b379312a",
      "metadata": {
        "colab": {
          "base_uri": "https://localhost:8080/"
        },
        "id": "b379312a",
        "outputId": "265377c4-9277-4aed-a7ab-bc391069412a"
      },
      "outputs": [
        {
          "name": "stdout",
          "output_type": "stream",
          "text": [
            "> Loading glove embeddings ...\n",
            "GloVe Embeddings Length:  399998\n",
            "\n",
            "> Creating Vocab and embeddings ...\n",
            "Vocab Shape:  (400000,)\n",
            "Embeddings Shape:  (400000, 300)\n"
          ]
        }
      ],
      "source": [
        "# Pre-Trained GloVe Word Embeddings\n",
        "print(\"> Loading glove embeddings ...\")\n",
        "glove = pd.read_csv(\n",
        "    cwd + '/data/glove.6B.300d.txt', \n",
        "    sep = ' ', \n",
        "    quoting = 3, header = None, index_col = 0)\n",
        "glove_embedding = {key: val.values for key, val in glove.T.items()}\n",
        "print('GloVe Embeddings Length: ', len(glove_embedding))\n",
        "\n",
        "print()\n",
        "\n",
        "# Create NumPy Array for Vocab and Emeddings\n",
        "print(\"> Creating Vocab and embeddings ...\")\n",
        "vocab = list(glove_embedding.keys())\n",
        "embeddings = list(glove_embedding.values())\n",
        "\n",
        "vocab = np.array(vocab)\n",
        "embeddings = np.array(embeddings)\n",
        "\n",
        "# Insert '<pad>' and '<unk>' tokens at start of vocab\n",
        "vocab = np.insert(vocab, 0, '<pad>')\n",
        "vocab = np.insert(vocab, 1, '<unk>')\n",
        "print('Vocab Shape: ', vocab.shape)\n",
        "\n",
        "# Insert embeddings for pad and unk tokens at top of embeddings\n",
        "emb_pad = np.zeros((1, embeddings.shape[1]))\n",
        "emb_unk = np.mean(embeddings, axis = 0, keepdims = True)\n",
        "embeddings = np.vstack((emb_pad, emb_unk, embeddings))\n",
        "print('Embeddings Shape: ', embeddings.shape)"
      ]
    },
    {
      "cell_type": "code",
      "execution_count": 26,
      "id": "dd82ad73",
      "metadata": {
        "colab": {
          "base_uri": "https://localhost:8080/"
        },
        "id": "dd82ad73",
        "outputId": "e4ca0c33-78dd-4fc9-9844-24408bbee4eb"
      },
      "outputs": [
        {
          "name": "stdout",
          "output_type": "stream",
          "text": [
            "> Idx to Tag Dict:  {0: 'B_country', 1: 'B_mpaa_rating', 2: 'B_cast', 3: 'I_release_year', 4: 'I_producer', 5: 'B_char', 6: 'B_director', 7: 'B_movie', 8: 'I_country', 9: 'I_subject', 10: 'O', 11: 'B_language', 12: 'I_person', 13: 'I-movie', 14: 'I_mpaa_rating', 15: 'I_char', 16: 'I_language', 17: 'B_release_year', 18: 'I_cast', 19: 'I_director', 20: 'B_subject', 21: 'B_producer', 22: 'I_movie', 23: 'I_genre', 24: 'B_location', 25: 'B_genre', 26: 'B_person'}\n",
            "Num Count: \n",
            " 27\n"
          ]
        }
      ],
      "source": [
        "# Dictionary for words\n",
        "word2idx = { term: idx for idx, term in enumerate(vocab) }\n",
        "word2idx['<pad>'] = 0\n",
        "word2idx['<unk>'] = 1\n",
        "idx2word = { idx: word for word,idx in word2idx.items() }\n",
        "\n",
        "# Dicitionary for tags\n",
        "tag_set = set()\n",
        "tag_count_dict = {}\n",
        "for index, row in df.iterrows():\n",
        "    temp = row['tags'].split()\n",
        "    for item in temp:\n",
        "        tag_set.add(item)\n",
        "        if item not in tag_count_dict:\n",
        "            tag_count_dict[item] = 1\n",
        "        else:\n",
        "            tag_count_dict[item] = tag_count_dict[item] + 1\n",
        "\n",
        "tag2idx = { tag: idx for idx, tag in enumerate(tag_set) }\n",
        "idx2tag = { idx: word for word, idx in tag2idx.items() }\n",
        "\n",
        "print('> Idx to Tag Dict: ', idx2tag)\n",
        "\n",
        "TAG_COUNT = len(tag2idx)\n",
        "print('Num Count: \\n', TAG_COUNT)\n"
      ]
    },
    {
      "cell_type": "code",
      "execution_count": 27,
      "id": "f5e66e1b",
      "metadata": {
        "id": "f5e66e1b"
      },
      "outputs": [],
      "source": [
        "# Class for DataLoader\n",
        "class DataSet(Dataset):\n",
        "\n",
        "    def __init__(self, data: pd.DataFrame):\n",
        "        en = English()\n",
        "        self.data = data\n",
        "        self.texts = self.data['texts']\n",
        "        if 'tags' in self.data.columns:\n",
        "            self.tags = self.data['tags']\n",
        "        self.tokenizer = Tokenizer(en.vocab)\n",
        "        \n",
        "    def __len__(self):\n",
        "        return len(self.data)\n",
        "    \n",
        "    def __getitem__(self, idx: int):\n",
        "        # Enoding Text\n",
        "        text = self.texts.iloc[idx]\n",
        "        encoded_text = self.encode_text(text)\n",
        "        \n",
        "        # Encoding Tags if they exist\n",
        "        if 'tags' in self.data.columns:\n",
        "            tag = self.tags.iloc[idx]\n",
        "            encoded_tag = self.encode_tag(tag)\n",
        "            return encoded_text, encoded_tag \n",
        "        else:\n",
        "            return encoded_text\n",
        "        \n",
        "    # Tokenize    \n",
        "    def tokenize(self, text: str):\n",
        "        return [i.text for i in self.tokenizer(text)]\n",
        "    \n",
        "    # Encode Text\n",
        "    def encode_text(self, text):\n",
        "        text_list = [word for word in self.tokenize(text)]\n",
        "        text_vector = []\n",
        "        for word in text_list:\n",
        "            if word in word2idx:\n",
        "                text_vector.append(word2idx[word])\n",
        "            else:\n",
        "                text_vector.append(1)\n",
        "        return text_vector\n",
        "    \n",
        "    # Enocde Tags\n",
        "    def encode_tag(self, tag):\n",
        "        tag_list = [word for word in self.tokenize(tag)]\n",
        "        tag_vector = [tag2idx[word] for word in tag_list]\n",
        "        return tag_vector"
      ]
    },
    {
      "cell_type": "code",
      "execution_count": 28,
      "id": "1b8d42fa",
      "metadata": {
        "colab": {
          "base_uri": "https://localhost:8080/"
        },
        "id": "1b8d42fa",
        "outputId": "2a17759e-7e4d-4574-e5f2-6af15a4c1997"
      },
      "outputs": [
        {
          "name": "stdout",
          "output_type": "stream",
          "text": [
            "> Converting Data to Dataset ...\n",
            "([275, 287, 2, 3227, 12, 2, 1007], [10, 10, 10, 10, 10, 10, 10])\n",
            "([40, 17, 8, 21997], [10, 10, 10, 7])\n"
          ]
        }
      ],
      "source": [
        "\n",
        "print('> Converting Data to Dataset ...')\n",
        "train_ds = DataSet(train_data)\n",
        "val_ds = DataSet(val_data)\n",
        "test_ds = DataSet(test_data)\n",
        "\n",
        "\n",
        "print(train_ds[0])\n",
        "print(train_ds[1])"
      ]
    },
    {
      "cell_type": "code",
      "execution_count": 29,
      "id": "d9aae1b5",
      "metadata": {
        "id": "d9aae1b5"
      },
      "outputs": [],
      "source": [
        "# Custom Collate function\n",
        "def custom_collate_fn(batch):\n",
        "    if isinstance(batch[0], list):\n",
        "        texts_tensor = [torch.tensor(text) for text in batch]\n",
        "\n",
        "        lengths = [len(text) for text in batch]\n",
        "        lengths = torch.tensor(lengths)\n",
        "\n",
        "        texts_padded = pad_sequence(texts_tensor, batch_first = True, padding_value = 0)\n",
        "\n",
        "        return texts_padded, lengths\n",
        "\n",
        "    else:\n",
        "        texts, tags = zip(*batch)\n",
        "\n",
        "        texts_tensor = [torch.tensor(text) for text in texts]\n",
        "        tags_tensor = [torch.tensor(tag) for tag in tags]\n",
        "\n",
        "        lengths = [len(text) for text in texts]\n",
        "        lengths = torch.tensor(lengths)\n",
        "\n",
        "        texts_padded = pad_sequence(texts_tensor, batch_first = True, padding_value = 0)\n",
        "        tags_padded = pad_sequence(tags_tensor, batch_first = True, padding_value = 0)\n",
        "\n",
        "        return texts_padded, tags_padded, lengths\n",
        "\n",
        "BATCH_SIZE = 32\n",
        "\n",
        "# PyTorch Data Loaders\n",
        "train_loader = DataLoader(\n",
        "    train_ds, batch_size = BATCH_SIZE, shuffle = True, collate_fn = custom_collate_fn)\n",
        "\n",
        "val_loader = DataLoader(\n",
        "    val_ds, batch_size = BATCH_SIZE, shuffle = True, collate_fn = custom_collate_fn)\n",
        "\n",
        "test_loader = DataLoader(\n",
        "    test_ds, batch_size = 1, shuffle = False, collate_fn = custom_collate_fn)\n"
      ]
    },
    {
      "cell_type": "code",
      "execution_count": 87,
      "id": "8bf6dfb9",
      "metadata": {
        "id": "8bf6dfb9"
      },
      "outputs": [],
      "source": [
        "# Bi-LSTM Model\n",
        "# LSTM Model\n",
        "class LSTM(nn.Module):\n",
        "    \n",
        "    def __init__(self, embedding_dim, hidden_dim, output_dim, n_layers, bidirectional, dropout):\n",
        "        super().__init__()\n",
        "        # Pre-Trained Embeddings\n",
        "        self.embedding = nn.Embedding.from_pretrained(torch.from_numpy(embeddings).float())\n",
        "        # LSTM layer\n",
        "        self.lstm = nn.LSTM(embedding_dim, \n",
        "                            hidden_dim,\n",
        "                            num_layers = n_layers,\n",
        "                            bidirectional = bidirectional,\n",
        "                            dropout = dropout,\n",
        "                            batch_first = True)\n",
        "        num_directions = 2 if bidirectional else 1\n",
        "        # Dense layers to predict\n",
        "        self.fc1 = nn.Linear(hidden_dim * num_directions, hidden_dim)\n",
        "        self.fc2 = nn.Linear(hidden_dim, output_dim)\n",
        "        # Dropout to improve with regularization\n",
        "        self.dropout = nn.Dropout(dropout)\n",
        "        \n",
        "    def forward(self, x, x_lengths):\n",
        "        # Embedding Layer\n",
        "        embedded = self.embedding(x)\n",
        "        # Dropout Layer before LSTM Layer\n",
        "        embedded = self.dropout(embedded)\n",
        "        # Packed Sequence\n",
        "        packed_embedded = nn.utils.rnn.pack_padded_sequence(\n",
        "            embedded, x_lengths, batch_first = True, enforce_sorted = False)\n",
        "        # LSTM Layer\n",
        "        packed_output, (hidden, cell) = self.lstm(packed_embedded)\n",
        "        # Unpack sequence\n",
        "        output, output_lengths = nn.utils.rnn.pad_packed_sequence(\n",
        "            packed_output, batch_first = True)\n",
        "        # 1st Fully Connected Layer\n",
        "        output = self.fc1(output)\n",
        "        # Dropout Layer before Output\n",
        "        output = self.dropout(output)\n",
        "        # 2nd Fully Connected Layer\n",
        "        output = self.fc2(output)\n",
        "        return output\n",
        "\n",
        "\n",
        "\n",
        "# GRU Model\n",
        "class GRU(nn.Module):\n",
        "        \n",
        "        def __init__(self, embedding_dim, hidden_dim, output_dim, n_layers, bidirectional, dropout):\n",
        "            super().__init__()\n",
        "            # Pre-Trained Embeddings\n",
        "            self.embedding = nn.Embedding.from_pretrained(torch.from_numpy(embeddings).float())\n",
        "            # GRU layer\n",
        "            self.gru = nn.GRU(embedding_dim, \n",
        "                            hidden_dim,\n",
        "                            num_layers = n_layers,\n",
        "                            bidirectional = bidirectional,\n",
        "                            dropout = dropout,\n",
        "                            batch_first = True)\n",
        "            num_directions = 2 if bidirectional else 1\n",
        "            # Dense layers to predict\n",
        "            self.fc1 = nn.Linear(hidden_dim * num_directions, hidden_dim)\n",
        "            self.fc2 = nn.Linear(hidden_dim, output_dim)\n",
        "            # Dropout to improve with regularization\n",
        "            self.dropout = nn.Dropout(dropout)\n",
        "            \n",
        "        def forward(self, x, x_lengths):\n",
        "            # Embedding Layer\n",
        "            embedded = self.embedding(x)\n",
        "            # Dropout Layer before GRU Layer\n",
        "            embedded = self.dropout(embedded)\n",
        "            # Packed Sequence\n",
        "            packed_embedded = nn.utils.rnn.pack_padded_sequence(\n",
        "                embedded, x_lengths, batch_first = True, enforce_sorted = False)\n",
        "            # GRU Layer\n",
        "            packed_output, hidden = self.gru(packed_embedded)\n",
        "            # Unpack sequence\n",
        "            output, output_lengths = nn.utils.rnn.pad_packed_sequence(\n",
        "                packed_output, batch_first = True)\n",
        "            # 1st Fully Connected Layer\n",
        "            output = self.fc1(output)\n",
        "            # Dropout Layer before Output\n",
        "            output = self.dropout(output)\n",
        "            # 2nd Fully Connected Layer\n",
        "            output = self.fc2(output)\n",
        "            return output\n",
        "\n",
        "\n",
        "\n",
        "# MLP Model\n",
        "class MLP(nn.Module):\n",
        "        \n",
        "        def __init__(self, embedding_dim, hidden_dim, output_dim, n_layers, dropout):\n",
        "            super().__init__()\n",
        "            # Pre-Trained Embeddings\n",
        "            self.embedding = nn.Embedding.from_pretrained(torch.from_numpy(embeddings).float())\n",
        "            # Dense layers to predict\n",
        "            self.fc1 = nn.Linear(embedding_dim, hidden_dim)\n",
        "            self.fc2 = nn.Linear(hidden_dim, hidden_dim)\n",
        "            self.fc3 = nn.Linear(hidden_dim, output_dim)\n",
        "            # Dropout to improve with regularization\n",
        "            self.dropout = nn.Dropout(dropout)\n",
        "            \n",
        "        def forward(self, x, x_lengths):\n",
        "            # Embedding Layer\n",
        "            embedded = self.embedding(x)\n",
        "            # Flatten\n",
        "            embedded = embedded.view(embedded.shape[0], -1)\n",
        "            # 1st Fully Connected Layer\n",
        "            output = self.fc1(embedded)\n",
        "            # Dropout Layer before Output\n",
        "            output = self.dropout(output)\n",
        "            # 2nd Fully Connected Layer\n",
        "            output = self.fc2(output)\n",
        "            # Dropout Layer before Output\n",
        "            output = self.dropout(output)\n",
        "            # 3rd Fully Connected Layer\n",
        "            output = self.fc3(output)\n",
        "            return output"
      ]
    },
    {
      "cell_type": "code",
      "execution_count": 160,
      "id": "Lf6tEiNiUW10",
      "metadata": {
        "id": "Lf6tEiNiUW10"
      },
      "outputs": [],
      "source": [
        "torch.manual_seed(32)\n",
        "\n",
        "# Model Hyper-parameters\n",
        "EMBEDDING_DIM = embeddings.shape[1]\n",
        "HIDDEN_DIM = 20\n",
        "OUTPUT_DIM = TAG_COUNT\n",
        "NUM_LAYERS = 3\n",
        "BIDIRECTION = True\n",
        "DROPOUT = 0.2\n",
        "LEARNING_RATE = 0.01\n",
        "MODEL_TYPE = 'lstm'  \n"
      ]
    },
    {
      "cell_type": "code",
      "execution_count": 161,
      "id": "VkreegioUAbN",
      "metadata": {
        "colab": {
          "base_uri": "https://localhost:8080/"
        },
        "id": "VkreegioUAbN",
        "outputId": "93ba4db3-a138-4b94-9374-a909d8702c2e"
      },
      "outputs": [
        {
          "name": "stdout",
          "output_type": "stream",
          "text": [
            "LSTM(\n",
            "  (embedding): Embedding(400000, 300)\n",
            "  (lstm): LSTM(300, 20, num_layers=3, batch_first=True, dropout=0.2, bidirectional=True)\n",
            "  (fc1): Linear(in_features=40, out_features=20, bias=True)\n",
            "  (fc2): Linear(in_features=20, out_features=27, bias=True)\n",
            "  (dropout): Dropout(p=0.2, inplace=False)\n",
            ")\n"
          ]
        }
      ],
      "source": [
        "\n",
        "def get_model(model) -> nn.Module:\n",
        "\n",
        "    if model == 'mlp':\n",
        "        return MLP(\n",
        "            EMBEDDING_DIM,\n",
        "            HIDDEN_DIM, \n",
        "            OUTPUT_DIM, \n",
        "            NUM_LAYERS, \n",
        "            DROPOUT).to(device)\n",
        "    \n",
        "    elif model == 'gru':\n",
        "        return GRU(\n",
        "            EMBEDDING_DIM,\n",
        "            HIDDEN_DIM, \n",
        "            OUTPUT_DIM,\n",
        "            NUM_LAYERS, \n",
        "            BIDIRECTION, \n",
        "            DROPOUT).to(device)\n",
        "\n",
        "    elif model == 'lstm':\n",
        "        return LSTM(\n",
        "            EMBEDDING_DIM, \n",
        "            HIDDEN_DIM, \n",
        "            OUTPUT_DIM, \n",
        "            NUM_LAYERS, \n",
        "            BIDIRECTION, \n",
        "            DROPOUT).to(device)\n",
        "\n",
        "model = get_model(\n",
        "    model=MODEL_TYPE\n",
        ")\n",
        "\n",
        "print(model)"
      ]
    },
    {
      "cell_type": "code",
      "execution_count": 162,
      "id": "cf60ffef",
      "metadata": {
        "id": "cf60ffef"
      },
      "outputs": [],
      "source": [
        "def squeezed_list(my_list):\n",
        "    temp_list = [int(element) for element in my_list]\n",
        "    return temp_list  \n",
        "\n",
        "def slice_list(my_list, slice_increment):\n",
        "    return [my_list[i : i + slice_increment] for i in range(0, len(my_list), slice_increment)]\n",
        "\n",
        "def convert_idx_to_tags(lol, isTensor):\n",
        "    iob_list = []\n",
        "    for list_element in lol:\n",
        "        if (isTensor):\n",
        "            list_element = list_element.numpy() \n",
        "        iob = [idx2tag[index] for index in list_element]\n",
        "        iob_list.append(iob)\n",
        "    return iob_list"
      ]
    },
    {
      "cell_type": "code",
      "execution_count": 163,
      "id": "fade282e",
      "metadata": {
        "id": "fade282e"
      },
      "outputs": [],
      "source": [
        "# Model Train Function\n",
        "def train(loader, model, optimizer, loss_fn):\n",
        "    model.train().to(device)\n",
        "    losses = []\n",
        "    pbar = tqdm(loader)\n",
        "    for x, y, lengths in pbar:\n",
        "        optimizer.zero_grad()\n",
        "        \n",
        "        # Calculate y_pred\n",
        "        y_pred = model(x, lengths)\n",
        "        \n",
        "        # Convert y_pred to 2D Tensor\n",
        "        y_pred = y_pred.view(-1, y_pred.shape[-1])\n",
        "        # Convert y_pred to 1D Tensor\n",
        "        y = torch.flatten(y)\n",
        "        \n",
        "        loss = loss_fn(y_pred, y)\n",
        "        pbar.set_postfix({'Loss': loss.item()})\n",
        "        losses.append(loss.item())\n",
        "        \n",
        "        # Calculate gradients for w/b\n",
        "        loss.backward()  \n",
        "        # Update weights according to optimizer rules\n",
        "        optimizer.step()          \n",
        "    return round((sum(losses) / len(losses)), 4)\n",
        "\n",
        "\n",
        "# Model Evaluate Function\n",
        "def evaluate(loader, model, loss_fn, score_fn):\n",
        "    model.eval()\n",
        "    losses = []\n",
        "    for x, y, lengths in tqdm(loader):\n",
        "        y_pred = model(x, lengths)\n",
        "        \n",
        "        max_len = x.shape[1]\n",
        "              \n",
        "        # Convert y_pred to 2D Tensor\n",
        "        y_pred = y_pred.view(-1, y_pred.shape[-1])\n",
        "        # Convert y_pred to 1D Tensor\n",
        "        y = torch.flatten(y)\n",
        "        \n",
        "        loss = loss_fn(y_pred, y)\n",
        "        losses.append(loss.item())\n",
        "        \n",
        "        tags_iob = convert_idx_to_tags(slice_list(y, max_len), True)\n",
        "\n",
        "        # Get the index of the max probability\n",
        "        max_preds = y_pred.argmax(dim = 1, keepdim = True) \n",
        "        \n",
        "        predictions_iob = convert_idx_to_tags(\n",
        "            slice_list((squeezed_list(max_preds)), max_len), False)\n",
        "    \n",
        "    score = score_fn(tags_iob, predictions_iob, scheme = IOB2)\n",
        "    return tags_iob, predictions_iob, round((sum(losses) / len(losses)), 4), round(score, 4)"
      ]
    },
    {
      "cell_type": "code",
      "execution_count": 164,
      "id": "ai5QPTBvWgd8",
      "metadata": {
        "id": "ai5QPTBvWgd8"
      },
      "outputs": [],
      "source": [
        "# disable seqeval warnings\n",
        "import warnings\n",
        "warnings.filterwarnings('ignore')"
      ]
    },
    {
      "cell_type": "code",
      "execution_count": 165,
      "id": "bc19c22f",
      "metadata": {
        "colab": {
          "base_uri": "https://localhost:8080/"
        },
        "id": "bc19c22f",
        "outputId": "854711ec-299c-4687-e0d3-54c163ec4c16"
      },
      "outputs": [
        {
          "name": "stderr",
          "output_type": "stream",
          "text": [
            "100%|██████████| 53/53 [00:02<00:00, 22.80it/s, Loss=0.476]\n"
          ]
        },
        {
          "name": "stdout",
          "output_type": "stream",
          "text": [
            "Train Loss:  1.3429\n"
          ]
        },
        {
          "name": "stderr",
          "output_type": "stream",
          "text": [
            "100%|██████████| 18/18 [00:00<00:00, 59.79it/s]\n"
          ]
        },
        {
          "name": "stdout",
          "output_type": "stream",
          "text": [
            "Val Accuracy:  0.809\n",
            "Val Loss:  0.4596\n"
          ]
        },
        {
          "name": "stderr",
          "output_type": "stream",
          "text": [
            "100%|██████████| 53/53 [00:02<00:00, 22.68it/s, Loss=0.395]\n"
          ]
        },
        {
          "name": "stdout",
          "output_type": "stream",
          "text": [
            "Train Loss:  0.3627\n"
          ]
        },
        {
          "name": "stderr",
          "output_type": "stream",
          "text": [
            "100%|██████████| 18/18 [00:00<00:00, 49.81it/s]\n"
          ]
        },
        {
          "name": "stdout",
          "output_type": "stream",
          "text": [
            "Val Accuracy:  0.931\n",
            "Val Loss:  0.2823\n"
          ]
        },
        {
          "name": "stderr",
          "output_type": "stream",
          "text": [
            "100%|██████████| 53/53 [00:02<00:00, 22.71it/s, Loss=0.213]\n"
          ]
        },
        {
          "name": "stdout",
          "output_type": "stream",
          "text": [
            "Train Loss:  0.2278\n"
          ]
        },
        {
          "name": "stderr",
          "output_type": "stream",
          "text": [
            "100%|██████████| 18/18 [00:00<00:00, 65.00it/s]\n"
          ]
        },
        {
          "name": "stdout",
          "output_type": "stream",
          "text": [
            "Val Accuracy:  0.9107\n",
            "Val Loss:  0.186\n"
          ]
        },
        {
          "name": "stderr",
          "output_type": "stream",
          "text": [
            "100%|██████████| 53/53 [00:02<00:00, 23.35it/s, Loss=0.243]\n"
          ]
        },
        {
          "name": "stdout",
          "output_type": "stream",
          "text": [
            "Train Loss:  0.1681\n"
          ]
        },
        {
          "name": "stderr",
          "output_type": "stream",
          "text": [
            "100%|██████████| 18/18 [00:00<00:00, 58.64it/s]\n"
          ]
        },
        {
          "name": "stdout",
          "output_type": "stream",
          "text": [
            "Val Accuracy:  0.9622\n",
            "Val Loss:  0.1679\n"
          ]
        },
        {
          "name": "stderr",
          "output_type": "stream",
          "text": [
            "100%|██████████| 53/53 [00:02<00:00, 22.98it/s, Loss=0.12]\n"
          ]
        },
        {
          "name": "stdout",
          "output_type": "stream",
          "text": [
            "Train Loss:  0.1528\n"
          ]
        },
        {
          "name": "stderr",
          "output_type": "stream",
          "text": [
            "100%|██████████| 18/18 [00:00<00:00, 62.84it/s]\n"
          ]
        },
        {
          "name": "stdout",
          "output_type": "stream",
          "text": [
            "Val Accuracy:  0.9368\n",
            "Val Loss:  0.1519\n"
          ]
        },
        {
          "name": "stderr",
          "output_type": "stream",
          "text": [
            "100%|██████████| 53/53 [00:02<00:00, 22.96it/s, Loss=0.141]\n"
          ]
        },
        {
          "name": "stdout",
          "output_type": "stream",
          "text": [
            "Train Loss:  0.1265\n"
          ]
        },
        {
          "name": "stderr",
          "output_type": "stream",
          "text": [
            "100%|██████████| 18/18 [00:00<00:00, 66.53it/s]\n"
          ]
        },
        {
          "name": "stdout",
          "output_type": "stream",
          "text": [
            "Val Accuracy:  0.9213\n",
            "Val Loss:  0.1419\n"
          ]
        },
        {
          "name": "stderr",
          "output_type": "stream",
          "text": [
            "100%|██████████| 53/53 [00:02<00:00, 23.47it/s, Loss=0.186]\n"
          ]
        },
        {
          "name": "stdout",
          "output_type": "stream",
          "text": [
            "Train Loss:  0.1152\n"
          ]
        },
        {
          "name": "stderr",
          "output_type": "stream",
          "text": [
            "100%|██████████| 18/18 [00:00<00:00, 59.70it/s]\n"
          ]
        },
        {
          "name": "stdout",
          "output_type": "stream",
          "text": [
            "Val Accuracy:  0.9843\n",
            "Val Loss:  0.1346\n"
          ]
        },
        {
          "name": "stderr",
          "output_type": "stream",
          "text": [
            "100%|██████████| 53/53 [00:02<00:00, 23.04it/s, Loss=0.117]\n"
          ]
        },
        {
          "name": "stdout",
          "output_type": "stream",
          "text": [
            "Train Loss:  0.1015\n"
          ]
        },
        {
          "name": "stderr",
          "output_type": "stream",
          "text": [
            "100%|██████████| 18/18 [00:00<00:00, 60.66it/s]\n"
          ]
        },
        {
          "name": "stdout",
          "output_type": "stream",
          "text": [
            "Val Accuracy:  0.9427\n",
            "Val Loss:  0.1303\n"
          ]
        },
        {
          "name": "stderr",
          "output_type": "stream",
          "text": [
            "100%|██████████| 53/53 [00:02<00:00, 23.07it/s, Loss=0.138]\n"
          ]
        },
        {
          "name": "stdout",
          "output_type": "stream",
          "text": [
            "Train Loss:  0.0915\n"
          ]
        },
        {
          "name": "stderr",
          "output_type": "stream",
          "text": [
            "100%|██████████| 18/18 [00:00<00:00, 60.81it/s]\n"
          ]
        },
        {
          "name": "stdout",
          "output_type": "stream",
          "text": [
            "Val Accuracy:  0.9585\n",
            "Val Loss:  0.1255\n"
          ]
        },
        {
          "name": "stderr",
          "output_type": "stream",
          "text": [
            "100%|██████████| 53/53 [00:02<00:00, 22.49it/s, Loss=0.0882]\n"
          ]
        },
        {
          "name": "stdout",
          "output_type": "stream",
          "text": [
            "Train Loss:  0.0846\n"
          ]
        },
        {
          "name": "stderr",
          "output_type": "stream",
          "text": [
            "100%|██████████| 18/18 [00:00<00:00, 63.83it/s]\n"
          ]
        },
        {
          "name": "stdout",
          "output_type": "stream",
          "text": [
            "Val Accuracy:  0.9603\n",
            "Val Loss:  0.1256\n"
          ]
        },
        {
          "name": "stderr",
          "output_type": "stream",
          "text": [
            "100%|██████████| 53/53 [00:02<00:00, 22.89it/s, Loss=0.067]\n"
          ]
        },
        {
          "name": "stdout",
          "output_type": "stream",
          "text": [
            "Train Loss:  0.075\n"
          ]
        },
        {
          "name": "stderr",
          "output_type": "stream",
          "text": [
            "100%|██████████| 18/18 [00:00<00:00, 63.58it/s]\n"
          ]
        },
        {
          "name": "stdout",
          "output_type": "stream",
          "text": [
            "Val Accuracy:  0.9878\n",
            "Val Loss:  0.1087\n"
          ]
        },
        {
          "name": "stderr",
          "output_type": "stream",
          "text": [
            "100%|██████████| 53/53 [00:02<00:00, 23.02it/s, Loss=0.112]\n"
          ]
        },
        {
          "name": "stdout",
          "output_type": "stream",
          "text": [
            "Train Loss:  0.0719\n"
          ]
        },
        {
          "name": "stderr",
          "output_type": "stream",
          "text": [
            "100%|██████████| 18/18 [00:00<00:00, 63.52it/s]\n"
          ]
        },
        {
          "name": "stdout",
          "output_type": "stream",
          "text": [
            "Val Accuracy:  0.9858\n",
            "Val Loss:  0.119\n"
          ]
        },
        {
          "name": "stderr",
          "output_type": "stream",
          "text": [
            "100%|██████████| 53/53 [00:02<00:00, 23.09it/s, Loss=0.0507]\n"
          ]
        },
        {
          "name": "stdout",
          "output_type": "stream",
          "text": [
            "Train Loss:  0.0657\n"
          ]
        },
        {
          "name": "stderr",
          "output_type": "stream",
          "text": [
            "100%|██████████| 18/18 [00:00<00:00, 57.94it/s]\n"
          ]
        },
        {
          "name": "stdout",
          "output_type": "stream",
          "text": [
            "Val Accuracy:  0.9531\n",
            "Val Loss:  0.1053\n"
          ]
        },
        {
          "name": "stderr",
          "output_type": "stream",
          "text": [
            "100%|██████████| 53/53 [00:02<00:00, 22.29it/s, Loss=0.0528]\n"
          ]
        },
        {
          "name": "stdout",
          "output_type": "stream",
          "text": [
            "Train Loss:  0.0606\n"
          ]
        },
        {
          "name": "stderr",
          "output_type": "stream",
          "text": [
            "100%|██████████| 18/18 [00:00<00:00, 63.96it/s]\n"
          ]
        },
        {
          "name": "stdout",
          "output_type": "stream",
          "text": [
            "Val Accuracy:  0.9856\n",
            "Val Loss:  0.1159\n"
          ]
        },
        {
          "name": "stderr",
          "output_type": "stream",
          "text": [
            "100%|██████████| 53/53 [00:02<00:00, 22.50it/s, Loss=0.111]\n"
          ]
        },
        {
          "name": "stdout",
          "output_type": "stream",
          "text": [
            "Train Loss:  0.0562\n"
          ]
        },
        {
          "name": "stderr",
          "output_type": "stream",
          "text": [
            "100%|██████████| 18/18 [00:00<00:00, 64.74it/s]\n"
          ]
        },
        {
          "name": "stdout",
          "output_type": "stream",
          "text": [
            "Val Accuracy:  0.9852\n",
            "Val Loss:  0.1306\n"
          ]
        },
        {
          "name": "stderr",
          "output_type": "stream",
          "text": [
            "100%|██████████| 53/53 [00:02<00:00, 21.44it/s, Loss=0.0437]\n"
          ]
        },
        {
          "name": "stdout",
          "output_type": "stream",
          "text": [
            "Train Loss:  0.0512\n"
          ]
        },
        {
          "name": "stderr",
          "output_type": "stream",
          "text": [
            "100%|██████████| 18/18 [00:00<00:00, 59.63it/s]\n"
          ]
        },
        {
          "name": "stdout",
          "output_type": "stream",
          "text": [
            "Val Accuracy:  0.9754\n",
            "Val Loss:  0.108\n"
          ]
        },
        {
          "name": "stderr",
          "output_type": "stream",
          "text": [
            "100%|██████████| 53/53 [00:03<00:00, 15.66it/s, Loss=0.057]\n"
          ]
        },
        {
          "name": "stdout",
          "output_type": "stream",
          "text": [
            "Train Loss:  0.0498\n"
          ]
        },
        {
          "name": "stderr",
          "output_type": "stream",
          "text": [
            "100%|██████████| 18/18 [00:00<00:00, 65.89it/s]\n"
          ]
        },
        {
          "name": "stdout",
          "output_type": "stream",
          "text": [
            "Val Accuracy:  0.9933\n",
            "Val Loss:  0.1006\n"
          ]
        },
        {
          "name": "stderr",
          "output_type": "stream",
          "text": [
            "100%|██████████| 53/53 [00:02<00:00, 22.42it/s, Loss=0.0276]\n"
          ]
        },
        {
          "name": "stdout",
          "output_type": "stream",
          "text": [
            "Train Loss:  0.0434\n"
          ]
        },
        {
          "name": "stderr",
          "output_type": "stream",
          "text": [
            "100%|██████████| 18/18 [00:00<00:00, 58.25it/s]\n"
          ]
        },
        {
          "name": "stdout",
          "output_type": "stream",
          "text": [
            "Val Accuracy:  0.9745\n",
            "Val Loss:  0.123\n"
          ]
        },
        {
          "name": "stderr",
          "output_type": "stream",
          "text": [
            "100%|██████████| 53/53 [00:02<00:00, 22.02it/s, Loss=0.046]\n"
          ]
        },
        {
          "name": "stdout",
          "output_type": "stream",
          "text": [
            "Train Loss:  0.0432\n"
          ]
        },
        {
          "name": "stderr",
          "output_type": "stream",
          "text": [
            "100%|██████████| 18/18 [00:00<00:00, 62.36it/s]\n"
          ]
        },
        {
          "name": "stdout",
          "output_type": "stream",
          "text": [
            "Val Accuracy:  0.9773\n",
            "Val Loss:  0.1078\n"
          ]
        },
        {
          "name": "stderr",
          "output_type": "stream",
          "text": [
            "100%|██████████| 53/53 [00:03<00:00, 17.63it/s, Loss=0.0595]\n"
          ]
        },
        {
          "name": "stdout",
          "output_type": "stream",
          "text": [
            "Train Loss:  0.0429\n"
          ]
        },
        {
          "name": "stderr",
          "output_type": "stream",
          "text": [
            "100%|██████████| 18/18 [00:00<00:00, 33.17it/s]\n"
          ]
        },
        {
          "name": "stdout",
          "output_type": "stream",
          "text": [
            "Val Accuracy:  0.9789\n",
            "Val Loss:  0.1106\n"
          ]
        }
      ],
      "source": [
        "# Model Training on Train dataset and Evaluation on Validation dataset\n",
        "optimizer = torch.optim.AdamW(\n",
        "    model.parameters(), lr = LEARNING_RATE\n",
        "    )\n",
        "loss_fn = nn.CrossEntropyLoss().to(device)\n",
        "score_fn = f1_score\n",
        "\n",
        "train_losses, val_losses, f1_scores = [], [], []\n",
        "N_EPOCHS = 20\n",
        "best_acc = 0\n",
        "PATH = f'output/best-model.pt'\n",
        "\n",
        "for epoch in range(N_EPOCHS):\n",
        "    # Model Training\n",
        "    train_loss = train(train_loader, model, optimizer, loss_fn)\n",
        "    train_losses.append(train_loss)\n",
        "    print('Train Loss: ', train_loss)\n",
        "    \n",
        "    # Model Evaluation\n",
        "    tags, predictions, val_loss, accuracy = evaluate(\n",
        "        val_loader, model, loss_fn, score_fn\n",
        "        )\n",
        "    val_losses.append(val_loss)\n",
        "    f1_scores.append(accuracy)\n",
        "    print('Val Accuracy: ', accuracy)\n",
        "    print('Val Loss: ', val_loss)\n",
        "    \n",
        "    # Save model if Validation F1_Score is greather than 75%\n",
        "    if accuracy > best_acc and accuracy > 0.75:\n",
        "        torch.save(model.state_dict(), PATH)"
      ]
    },
    {
      "cell_type": "code",
      "execution_count": 166,
      "id": "4d6f6a81",
      "metadata": {
        "colab": {
          "base_uri": "https://localhost:8080/",
          "height": 299
        },
        "id": "4d6f6a81",
        "outputId": "d42bc6e2-6eb6-469c-be7a-4d504447fb16"
      },
      "outputs": [
        {
          "data": {
            "image/png": "[encoded data removed]",
            "text/plain": [
              "<Figure size 432x288 with 1 Axes>"
            ]
          },
          "metadata": {},
          "output_type": "display_data"
        }
      ],
      "source": [
        "epochs = np.arange(N_EPOCHS)  \n",
        "\n",
        "plt.style.use('ggplot')\n",
        "plt.plot(epochs, train_losses, label = \"Training Loss\", color = \"red\", linewidth = '3')\n",
        "plt.plot(epochs, val_losses, label = \"Validation Loss\", color = \"green\", linewidth = '3')\n",
        "plt.xlabel('Epoch')\n",
        "plt.ylabel('Loss')\n",
        "plt.title('Training Loss vs Validation Loss', color = 'black')\n",
        "plt.legend(shadow = True)\n",
        "plt.savefig('output/train_vs_val_loss_plot.png')"
      ]
    },
    {
      "cell_type": "code",
      "execution_count": 167,
      "id": "fe7459ae",
      "metadata": {
        "colab": {
          "base_uri": "https://localhost:8080/",
          "height": 299
        },
        "id": "fe7459ae",
        "outputId": "bb58438b-7c4a-4613-efe7-39352ff431c9"
      },
      "outputs": [
        {
          "data": {
            "image/png": "[encoded data removed]",
            "text/plain": [
              "<Figure size 432x288 with 1 Axes>"
            ]
          },
          "metadata": {},
          "output_type": "display_data"
        }
      ],
      "source": [
        "# Validation Accuracy Plot\n",
        "plt.plot(epochs, f1_scores, color = 'blue', linewidth = '2')\n",
        "plt.xlabel('Epoch')\n",
        "plt.ylabel('F1_Score')\n",
        "plt.title('Validation Accuracy', color = 'black')\n",
        "plt.savefig('output/f1_accuracy_plot.png')"
      ]
    },
    {
      "cell_type": "code",
      "execution_count": 168,
      "id": "ae6188d2",
      "metadata": {
        "colab": {
          "base_uri": "https://localhost:8080/"
        },
        "id": "ae6188d2",
        "outputId": "3375e116-2b04-4015-fd06-48fc947fc1f8"
      },
      "outputs": [
        {
          "data": {
            "text/plain": [
              "LSTM(\n",
              "  (embedding): Embedding(400000, 300)\n",
              "  (lstm): LSTM(300, 20, num_layers=3, batch_first=True, dropout=0.2, bidirectional=True)\n",
              "  (fc1): Linear(in_features=40, out_features=20, bias=True)\n",
              "  (fc2): Linear(in_features=20, out_features=27, bias=True)\n",
              "  (dropout): Dropout(p=0.2, inplace=False)\n",
              ")"
            ]
          },
          "execution_count": 168,
          "metadata": {},
          "output_type": "execute_result"
        }
      ],
      "source": [
        "# Load the saved model\n",
        "saved_model = LSTM(EMBEDDING_DIM, \n",
        "                   HIDDEN_DIM, \n",
        "                   OUTPUT_DIM, \n",
        "                   NUM_LAYERS, \n",
        "                   BIDIRECTION, \n",
        "                   DROPOUT).to(device)\n",
        "\n",
        "saved_model.load_state_dict(torch.load(PATH))\n",
        "saved_model.eval()"
      ]
    },
    {
      "cell_type": "code",
      "execution_count": 169,
      "id": "ec96c585",
      "metadata": {
        "colab": {
          "base_uri": "https://localhost:8080/"
        },
        "id": "ec96c585",
        "outputId": "0efdf593-e070-4f92-b9f8-1e2f95414491"
      },
      "outputs": [
        {
          "name": "stderr",
          "output_type": "stream",
          "text": [
            "100%|██████████| 981/981 [00:02<00:00, 448.37it/s]\n"
          ]
        }
      ],
      "source": [
        "# Model Predict Function\n",
        "def predict(loader, model):\n",
        "    predictions = []\n",
        "    for x, lengths in tqdm(loader):\n",
        "        with torch.no_grad():\n",
        "            y_pred = saved_model.forward(x, lengths)\n",
        "            \n",
        "            max_len = x.shape[1]\n",
        "\n",
        "            # Convert y_pred to 2D Tensor\n",
        "            y_pred = y_pred.view(-1, y_pred.shape[-1])\n",
        "\n",
        "            max_preds = y_pred.argmax(dim = 1, keepdim = True) # Get the index of the max probability\n",
        "            predictions_iob = convert_idx_to_tags(slice_list((squeezed_list(max_preds)), max_len), False)\n",
        "            predictions.append(predictions_iob)\n",
        "    \n",
        "    return predictions\n",
        "\n",
        "predicted_tags = predict(test_loader, saved_model)\n",
        "predicted_tags = np.array(predicted_tags)\n",
        "predicted_tags = predicted_tags.squeeze().tolist()"
      ]
    },
    {
      "cell_type": "code",
      "execution_count": 170,
      "id": "273fe4d0",
      "metadata": {
        "colab": {
          "base_uri": "https://localhost:8080/"
        },
        "id": "273fe4d0",
        "outputId": "81c1ac14-248c-400b-f153-c1cf313eab12"
      },
      "outputs": [
        {
          "name": "stdout",
          "output_type": "stream",
          "text": [
            "      ID                                      IOB Slot tags\n",
            "0      0                                        O O B_movie\n",
            "1      1                          O O O O O B_movie I_movie\n",
            "2      2                        O O O O O O B_movie I_movie\n",
            "3      3                                      O O O B_movie\n",
            "4      4                                      O O O B_movie\n",
            "..   ...                                                ...\n",
            "976  976        O O B_movie I_movie I_movie I_movie I_movie\n",
            "977  977                            O B_movie I_movie O O O\n",
            "978  978                O O O O O O B_producer I_producer O\n",
            "979  979  O O B_cast I_person O O O O I_movie I_movie I_...\n",
            "980  980                   O O B_director O O O O B_country\n",
            "\n",
            "[981 rows x 2 columns]\n"
          ]
        }
      ],
      "source": [
        "# Creating Dictionary of Predictions\n",
        "list_of_dict = []\n",
        "for i in range(len(predicted_tags)):\n",
        "    temp_dict = {}\n",
        "    temp_dict[\"ID\"] = i\n",
        "    temp_dict[\"IOB Slot tags\"] = ' '.join(predicted_tags[i])\n",
        "    list_of_dict.append(temp_dict)\n",
        "\n",
        "# Converting Dictionary to CSV and compress it for submission to CodaLab\n",
        "tags_df = pd.DataFrame.from_dict(list_of_dict)\n",
        "tags_df.to_csv('output/submission.csv.zip', compression = 'zip', index = False)\n",
        "print(tags_df)"
      ]
    }
  ],
  "metadata": {
    "colab": {
      "provenance": []
    },
    "gpuClass": "standard",
    "kernelspec": {
      "display_name": "venv",
      "language": "python",
      "name": "python3"
    },
    "language_info": {
      "codemirror_mode": {
        "name": "ipython",
        "version": 3
      },
      "file_extension": ".py",
      "mimetype": "text/x-python",
      "name": "python",
      "nbconvert_exporter": "python",
      "pygments_lexer": "ipython3",
      "version": "3.10.8 (tags/v3.10.8:aaaf517, Oct 11 2022, 16:50:30) [MSC v.1933 64 bit (AMD64)]"
    },
    "vscode": {
      "interpreter": {
        "hash": "28871ceb77ca11509dace590eaf42f33d015750868e9dcad7570bbdfa2dda0bf"
      }
    }
  },
  "nbformat": 4,
  "nbformat_minor": 5
}
